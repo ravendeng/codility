{
 "cells": [
  {
   "cell_type": "code",
   "execution_count": 1,
   "id": "1286e756",
   "metadata": {},
   "outputs": [],
   "source": [
    "import time"
   ]
  },
  {
   "cell_type": "code",
   "execution_count": 2,
   "id": "5ee3924b",
   "metadata": {},
   "outputs": [],
   "source": [
    "class convert_10_16:\n",
    "    def __init__(self, num_str):\n",
    "        self.num = int(num_str)\n",
    "    def convert(self):\n",
    "        output = []\n",
    "        quo = self.num\n",
    "        while quo >= 1:\n",
    "            rem = quo%16\n",
    "            quo = quo//16\n",
    "            output.append(rem)\n",
    "        map_dict = {1: 'I', 0: 'O', 10: 'A', 11: 'B', 12: 'C', 13: 'D', 14: 'E', 15: 'F'}\n",
    "        for i in range(len(output)):\n",
    "            if output[i] in [2,3,4,5,6,7,8,9]:\n",
    "                return 'Error'\n",
    "        return ''.join(s for s in list(reversed([*map(map_dict.get, output)])))"
   ]
  },
  {
   "cell_type": "code",
   "execution_count": 3,
   "id": "853dd930",
   "metadata": {},
   "outputs": [
    {
     "name": "stdout",
     "output_type": "stream",
     "text": [
      "IO\n",
      "-0.0007867813110351562\n"
     ]
    }
   ],
   "source": [
    "start = time.time()\n",
    "num_str = '16'\n",
    "test = convert_10_16(num_str)\n",
    "output_list = test.convert()\n",
    "print(output_list)\n",
    "end = time.time()\n",
    "print(start - end)"
   ]
  },
  {
   "cell_type": "code",
   "execution_count": null,
   "id": "80331a20",
   "metadata": {},
   "outputs": [],
   "source": []
  }
 ],
 "metadata": {
  "kernelspec": {
   "display_name": "Python 3",
   "language": "python",
   "name": "python3"
  },
  "language_info": {
   "codemirror_mode": {
    "name": "ipython",
    "version": 3
   },
   "file_extension": ".py",
   "mimetype": "text/x-python",
   "name": "python",
   "nbconvert_exporter": "python",
   "pygments_lexer": "ipython3",
   "version": "3.8.8"
  }
 },
 "nbformat": 4,
 "nbformat_minor": 5
}
