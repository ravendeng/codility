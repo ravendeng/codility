{
 "cells": [
  {
   "cell_type": "code",
   "execution_count": 21,
   "id": "48b763ef",
   "metadata": {},
   "outputs": [],
   "source": [
    "class closest_fibonacci:\n",
    "    def fibonacci():\n",
    "        a,b = 0,1\n",
    "        yield a\n",
    "        yield b\n",
    "        while True:\n",
    "            a,b = b, a+b\n",
    "            yield b\n",
    "    def __init__(self, num):\n",
    "        self.num = num\n",
    "    def find_c_fib(num):\n",
    "        for i in closest_fibonacci.fibonacci():\n",
    "            if i == num:\n",
    "                return num\n",
    "            elif i <= num:\n",
    "                pre = i\n",
    "            else:\n",
    "                if num - pre < i - num:\n",
    "                    return pre\n",
    "                else:\n",
    "                    return i"
   ]
  },
  {
   "cell_type": "code",
   "execution_count": 26,
   "id": "e1a42d9d",
   "metadata": {},
   "outputs": [],
   "source": [
    "import time"
   ]
  },
  {
   "cell_type": "code",
   "execution_count": 34,
   "id": "723f252c",
   "metadata": {},
   "outputs": [
    {
     "name": "stdout",
     "output_type": "stream",
     "text": [
      "7308805952221443105020355490\n",
      "-0.00023484230041503906\n"
     ]
    }
   ],
   "source": [
    "start = time.time()\n",
    "test = closest_fibonacci.find_c_fib(8687465345257868687574532424)\n",
    "print(test)\n",
    "end = time.time()\n",
    "print(start - end)"
   ]
  },
  {
   "cell_type": "code",
   "execution_count": null,
   "id": "24646fb7",
   "metadata": {},
   "outputs": [],
   "source": []
  }
 ],
 "metadata": {
  "kernelspec": {
   "display_name": "Python 3",
   "language": "python",
   "name": "python3"
  },
  "language_info": {
   "codemirror_mode": {
    "name": "ipython",
    "version": 3
   },
   "file_extension": ".py",
   "mimetype": "text/x-python",
   "name": "python",
   "nbconvert_exporter": "python",
   "pygments_lexer": "ipython3",
   "version": "3.8.8"
  }
 },
 "nbformat": 4,
 "nbformat_minor": 5
}
