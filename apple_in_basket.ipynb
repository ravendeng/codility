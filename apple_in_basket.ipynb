{
 "cells": [
  {
   "cell_type": "code",
   "execution_count": 45,
   "id": "2dac2ec6",
   "metadata": {},
   "outputs": [],
   "source": [
    "import time"
   ]
  },
  {
   "cell_type": "code",
   "execution_count": 93,
   "id": "c71e6b85",
   "metadata": {},
   "outputs": [],
   "source": [
    "class basket:\n",
    "    def __init__(self, up_limit, current_apple):\n",
    "        self.up_limit = up_limit\n",
    "        self.current_apple = current_apple\n",
    "    def add_apple(self, apple_list):\n",
    "        cnt = 0\n",
    "        l = len(apple_list)\n",
    "        apple = 0\n",
    "        while (self.current_apple <= self.up_limit) & (apple < l):\n",
    "            self.current_apple += sorted(apple_list)[apple]\n",
    "            cnt += 1\n",
    "            apple += 1\n",
    "        if self.current_apple > self.up_limit:\n",
    "            return cnt - 1\n",
    "        else:\n",
    "            return cnt"
   ]
  },
  {
   "cell_type": "code",
   "execution_count": 97,
   "id": "d28065eb",
   "metadata": {},
   "outputs": [
    {
     "name": "stdout",
     "output_type": "stream",
     "text": [
      "8\n",
      "10\n",
      "-1\n",
      "-0.0007259845733642578\n"
     ]
    }
   ],
   "source": [
    "start = time.time()\n",
    "apple_list = [3,2,1]\n",
    "test = basket(8,10)\n",
    "cnt = test.add_apple(apple_list)\n",
    "print(test.up_limit)\n",
    "print(test.current_apple)\n",
    "print(cnt)\n",
    "end = time.time()\n",
    "print(start - end)"
   ]
  },
  {
   "cell_type": "code",
   "execution_count": null,
   "id": "88107273",
   "metadata": {},
   "outputs": [],
   "source": []
  }
 ],
 "metadata": {
  "kernelspec": {
   "display_name": "Python 3",
   "language": "python",
   "name": "python3"
  },
  "language_info": {
   "codemirror_mode": {
    "name": "ipython",
    "version": 3
   },
   "file_extension": ".py",
   "mimetype": "text/x-python",
   "name": "python",
   "nbconvert_exporter": "python",
   "pygments_lexer": "ipython3",
   "version": "3.8.8"
  }
 },
 "nbformat": 4,
 "nbformat_minor": 5
}
