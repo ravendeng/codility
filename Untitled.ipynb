{
 "cells": [
  {
   "cell_type": "code",
   "execution_count": 1,
   "id": "ceafbbec",
   "metadata": {},
   "outputs": [],
   "source": [
    "def fibonacci():\n",
    "    a,b = 0,1\n",
    "    yield a\n",
    "    yield b\n",
    "    while True:\n",
    "        a,b = b, a+b\n",
    "        yield b\n",
    "def find_c_fib(num):\n",
    "    for i in fibonacci():\n",
    "        if i == num:\n",
    "            return num\n",
    "        elif i <= num:\n",
    "            pre = i\n",
    "        else:\n",
    "            if num - pre < i - num:\n",
    "                return pre\n",
    "            else:\n",
    "                return i"
   ]
  },
  {
   "cell_type": "code",
   "execution_count": 3,
   "id": "2ba7e1f3",
   "metadata": {},
   "outputs": [
    {
     "data": {
      "text/plain": [
       "1346269"
      ]
     },
     "execution_count": 3,
     "metadata": {},
     "output_type": "execute_result"
    }
   ],
   "source": [
    "find_c_fib(1213423)"
   ]
  },
  {
   "cell_type": "code",
   "execution_count": 4,
   "id": "dabc1115",
   "metadata": {},
   "outputs": [],
   "source": [
    "class basket:\n",
    "    def __init__(self, up_limit, current_apple):\n",
    "        self.up_limit = up_limit\n",
    "        self.current_apple = current_apple\n",
    "    def add_apple(self, apple_list):\n",
    "        cnt = 0\n",
    "        l = len(apple_list)\n",
    "        apple = 0\n",
    "        while (self.current_apple <= self.up_limit) & (apple < l):\n",
    "            self.current_apple += sorted(apple_list)[apple]\n",
    "            cnt += 1\n",
    "            apple += 1\n",
    "        if self.current_apple > self.up_limit:\n",
    "            return cnt - 1\n",
    "        else:\n",
    "            return cnt"
   ]
  },
  {
   "cell_type": "code",
   "execution_count": 35,
   "id": "8f473ffb",
   "metadata": {},
   "outputs": [
    {
     "name": "stdout",
     "output_type": "stream",
     "text": [
      "10\n",
      "7\n",
      "3\n"
     ]
    }
   ],
   "source": [
    "apple_list = [3,2,1]\n",
    "test = basket(10,1)\n",
    "cnt = test.add_apple(apple_list)\n",
    "print(test.up_limit)\n",
    "print(test.current_apple)\n",
    "print(cnt)"
   ]
  },
  {
   "cell_type": "code",
   "execution_count": 27,
   "id": "0c198141",
   "metadata": {},
   "outputs": [],
   "source": [
    "def convert(num_str):\n",
    "    output = []\n",
    "    quo = int(num_str)\n",
    "    while quo >= 1:\n",
    "        rem = quo%16\n",
    "        quo = quo//16\n",
    "        output.append(rem)\n",
    "    map_dict = {1: 'I', 0: 'O', 10: 'A', 11: 'B', 12: 'C', 13: 'D', 14: 'E', 15: 'F'}\n",
    "    for i in range(len(output)):\n",
    "        if output[i] in [2,3,4,5,6,7,8,9]:\n",
    "            return 'Error'\n",
    "    return ''.join(s for s in list(reversed([*map(map_dict.get, output)])))"
   ]
  },
  {
   "cell_type": "code",
   "execution_count": 32,
   "id": "2691895a",
   "metadata": {},
   "outputs": [
    {
     "name": "stdout",
     "output_type": "stream",
     "text": [
      "DOE\n"
     ]
    }
   ],
   "source": [
    "num_str = '3342'\n",
    "test = convert_10_16(num_str)\n",
    "output_list = test.convert()\n",
    "print(output_list)"
   ]
  },
  {
   "cell_type": "code",
   "execution_count": 49,
   "id": "a1bdca87",
   "metadata": {},
   "outputs": [],
   "source": [
    "def array_change(num_list):\n",
    "    l = len(num_list)\n",
    "    cnt = 0\n",
    "    for i in range(1, l-1):\n",
    "        if (num_list[i] < num_list[i-1]) & (num_list[i] < num_list[i+1]):\n",
    "            num_list[i] += 1\n",
    "            cnt += 1\n",
    "        elif (num_list[i] < num_list[i-1]) & (num_list[i] < num_list[i+1]):\n",
    "            num_list[i] -= 1\n",
    "            cnt += 1\n",
    "    return cnt, num_list"
   ]
  },
  {
   "cell_type": "code",
   "execution_count": 54,
   "id": "0c15caf5",
   "metadata": {},
   "outputs": [
    {
     "name": "stdout",
     "output_type": "stream",
     "text": [
      "[1, 2, 2, 4, 32, 23, 23, 23, 23]\n"
     ]
    }
   ],
   "source": [
    "num_list = [1,2,1,4,32,2,23,4,23]\n",
    "while array_change(num_list)[0] > 0:\n",
    "    num_list = array_change(num_list)[1]\n",
    "print(num_list)"
   ]
  },
  {
   "cell_type": "code",
   "execution_count": 19,
   "id": "97189400",
   "metadata": {},
   "outputs": [],
   "source": [
    "def same_sub_str(string_list):\n",
    "    seq_count = 1\n",
    "    ans = 0\n",
    "    for i in range(1, len(string_list)):\n",
    "        first = i-1\n",
    "        second = i\n",
    "        if string_list[first] == string_list[second]:\n",
    "            seq_count += 1\n",
    "        else:\n",
    "            ans += seq_count * (seq_count + 1) / 2\n",
    "            seq_count = 1\n",
    "    ans += seq_count * (seq_count + 1) / 2\n",
    "    return int(ans)"
   ]
  },
  {
   "cell_type": "code",
   "execution_count": 23,
   "id": "f6621dbe",
   "metadata": {},
   "outputs": [
    {
     "data": {
      "text/plain": [
       "14"
      ]
     },
     "execution_count": 23,
     "metadata": {},
     "output_type": "execute_result"
    }
   ],
   "source": [
    "string = 'aaabaaab'\n",
    "same_sub_str(string)"
   ]
  },
  {
   "cell_type": "code",
   "execution_count": null,
   "id": "bcaac285",
   "metadata": {},
   "outputs": [],
   "source": []
  }
 ],
 "metadata": {
  "kernelspec": {
   "display_name": "Python 3",
   "language": "python",
   "name": "python3"
  },
  "language_info": {
   "codemirror_mode": {
    "name": "ipython",
    "version": 3
   },
   "file_extension": ".py",
   "mimetype": "text/x-python",
   "name": "python",
   "nbconvert_exporter": "python",
   "pygments_lexer": "ipython3",
   "version": "3.8.8"
  }
 },
 "nbformat": 4,
 "nbformat_minor": 5
}
