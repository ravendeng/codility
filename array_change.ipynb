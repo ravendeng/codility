{
 "cells": [
  {
   "cell_type": "code",
   "execution_count": 1,
   "id": "1286e756",
   "metadata": {},
   "outputs": [],
   "source": [
    "import time"
   ]
  },
  {
   "cell_type": "code",
   "execution_count": 13,
   "id": "5ee3924b",
   "metadata": {},
   "outputs": [],
   "source": [
    "class array_change:\n",
    "    def __init__(self, num_list):\n",
    "        self.num_list = num_list\n",
    "    def change(self):\n",
    "        l = len(self.num_list)\n",
    "        for i in range(1, l-1):\n",
    "            if (self.num_list[i] < self.num_list[i-1]) & (self.num_list[i] < self.num_list[i+1]):\n",
    "                self.num_list[i] = min(self.num_list[i-1], self.num_list[i+1])\n",
    "        return self.num_list"
   ]
  },
  {
   "cell_type": "code",
   "execution_count": 17,
   "id": "853dd930",
   "metadata": {},
   "outputs": [
    {
     "name": "stdout",
     "output_type": "stream",
     "text": [
      "[1, 2, 3, 4, 32, 21, 4, 4, 5, 23, 54, 213, 213, 235453, 235453, 2326534, 111, 111, 323]\n",
      "-0.0007028579711914062\n"
     ]
    }
   ],
   "source": [
    "start = time.time()\n",
    "num_list = [1,2,3,4,32,21,2,4,5,23,54,213,6,235453,232,2326534,3,111,323]\n",
    "test = array_change(num_list)\n",
    "print(test.change())\n",
    "end = time.time()\n",
    "print(start - end)"
   ]
  },
  {
   "cell_type": "code",
   "execution_count": null,
   "id": "5235a5a3",
   "metadata": {},
   "outputs": [],
   "source": [
    "# This solution is incomplete as the number which is lower than its left/right should minus one in the question"
   ]
  }
 ],
 "metadata": {
  "kernelspec": {
   "display_name": "Python 3",
   "language": "python",
   "name": "python3"
  },
  "language_info": {
   "codemirror_mode": {
    "name": "ipython",
    "version": 3
   },
   "file_extension": ".py",
   "mimetype": "text/x-python",
   "name": "python",
   "nbconvert_exporter": "python",
   "pygments_lexer": "ipython3",
   "version": "3.8.8"
  }
 },
 "nbformat": 4,
 "nbformat_minor": 5
}
