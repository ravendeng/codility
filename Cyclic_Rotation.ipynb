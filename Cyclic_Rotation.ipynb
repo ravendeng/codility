{
 "cells": [
  {
   "cell_type": "code",
   "execution_count": 1,
   "id": "7bc0e613",
   "metadata": {},
   "outputs": [],
   "source": [
    "class cyclic_array(object):\n",
    "    def __init__(self, input_array):\n",
    "        self.array = input_array\n",
    "    def rotate(self, time_cnt):\n",
    "        cnt = 1\n",
    "        while cnt <= time_cnt:\n",
    "            temp_num = self.array[-1]\n",
    "            temp_array = self.array[:-1]\n",
    "            self.array = [temp_num] + temp_array\n",
    "            cnt += 1\n",
    "        return self.array"
   ]
  },
  {
   "cell_type": "code",
   "execution_count": 2,
   "id": "eef4edf8",
   "metadata": {},
   "outputs": [],
   "source": [
    "import time"
   ]
  },
  {
   "cell_type": "code",
   "execution_count": 5,
   "id": "1a3c5d39",
   "metadata": {},
   "outputs": [
    {
     "name": "stdout",
     "output_type": "stream",
     "text": [
      "[22, 3, 2, 24, 5, 36, 1243, 232, 43432, 12, 1, 2, 35, 42, 3, 8, 9, 7]\n",
      "0.0035660266876220703\n"
     ]
    }
   ],
   "source": [
    "start = time.time()\n",
    "print(cyclic_array([3,8,9,7,22,3,2,24,5,36,1243,232,43432,12,1,2,35,42]).rotate(5000))\n",
    "end = time.time()\n",
    "print(end - start)"
   ]
  },
  {
   "cell_type": "code",
   "execution_count": 6,
   "id": "172815fc",
   "metadata": {},
   "outputs": [],
   "source": [
    "def reverse(arr, i, j):\n",
    "    for idx in range((j - i + 1)//2):\n",
    "        arr[i+idx], arr[j-idx] = arr[j-idx], arr[i+idx]\n",
    "def solution(A, K):\n",
    "    l = len(A)\n",
    "    if l == 0:\n",
    "        return []    \n",
    "    K = K%l\n",
    "    reverse(A, l - K, l -1)\n",
    "    reverse(A, 0, l - K -1)\n",
    "    reverse(A, 0, l - 1)\n",
    "    return A"
   ]
  },
  {
   "cell_type": "code",
   "execution_count": 7,
   "id": "02085e77",
   "metadata": {},
   "outputs": [
    {
     "name": "stdout",
     "output_type": "stream",
     "text": [
      "[22, 3, 2, 24, 5, 36, 1243, 232, 43432, 12, 1, 2, 35, 42, 3, 8, 9, 7]\n",
      "0.0004248619079589844\n"
     ]
    }
   ],
   "source": [
    "start = time.time()\n",
    "print(solution([3,8,9,7,22,3,2,24,5,36,1243,232,43432,12,1,2,35,42], 5000))\n",
    "end = time.time()\n",
    "print(end - start)"
   ]
  },
  {
   "cell_type": "code",
   "execution_count": null,
   "id": "63a05862",
   "metadata": {},
   "outputs": [],
   "source": []
  }
 ],
 "metadata": {
  "kernelspec": {
   "display_name": "Python 3",
   "language": "python",
   "name": "python3"
  },
  "language_info": {
   "codemirror_mode": {
    "name": "ipython",
    "version": 3
   },
   "file_extension": ".py",
   "mimetype": "text/x-python",
   "name": "python",
   "nbconvert_exporter": "python",
   "pygments_lexer": "ipython3",
   "version": "3.8.8"
  }
 },
 "nbformat": 4,
 "nbformat_minor": 5
}
