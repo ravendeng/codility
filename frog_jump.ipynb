{
 "cells": [
  {
   "cell_type": "code",
   "execution_count": 22,
   "id": "7bc0e613",
   "metadata": {},
   "outputs": [],
   "source": [
    "class frog(object):\n",
    "    def __init__(self, position):\n",
    "        self.position = position\n",
    "    def jump(self, step):\n",
    "        self.position = self.position + step\n",
    "        return frog(self.position)\n",
    "def solution(X, Y, D):\n",
    "    temp = frog(X)\n",
    "    cnt = 0\n",
    "    while Y > temp.position:\n",
    "        temp = temp.jump(D)\n",
    "        cnt += 1\n",
    "    return cnt"
   ]
  },
  {
   "cell_type": "code",
   "execution_count": 26,
   "id": "20a540fe",
   "metadata": {},
   "outputs": [
    {
     "data": {
      "text/plain": [
       "18"
      ]
     },
     "execution_count": 26,
     "metadata": {},
     "output_type": "execute_result"
    }
   ],
   "source": [
    "solution(5,255,14)"
   ]
  },
  {
   "cell_type": "code",
   "execution_count": 27,
   "id": "eef4edf8",
   "metadata": {},
   "outputs": [],
   "source": [
    "import time"
   ]
  },
  {
   "cell_type": "code",
   "execution_count": 32,
   "id": "1a3c5d39",
   "metadata": {},
   "outputs": [
    {
     "name": "stdout",
     "output_type": "stream",
     "text": [
      "0.00026917457580566406\n"
     ]
    }
   ],
   "source": [
    "start = time.time()\n",
    "solution(5,2555,12)\n",
    "end = time.time()\n",
    "print(end - start)"
   ]
  },
  {
   "cell_type": "code",
   "execution_count": 30,
   "id": "172815fc",
   "metadata": {},
   "outputs": [],
   "source": [
    "def solution2(X, Y, D):\n",
    "    if (Y-X)%D == 0:\n",
    "        return int((Y-X)/D)\n",
    "    else:\n",
    "        return int((Y-X)/D+1)"
   ]
  },
  {
   "cell_type": "code",
   "execution_count": 33,
   "id": "02085e77",
   "metadata": {},
   "outputs": [
    {
     "name": "stdout",
     "output_type": "stream",
     "text": [
      "9.989738464355469e-05\n"
     ]
    }
   ],
   "source": [
    "start = time.time()\n",
    "solution2(5,2555,12)\n",
    "end = time.time()\n",
    "print(end - start)"
   ]
  },
  {
   "cell_type": "code",
   "execution_count": null,
   "id": "c4343969",
   "metadata": {},
   "outputs": [],
   "source": []
  }
 ],
 "metadata": {
  "kernelspec": {
   "display_name": "Python 3",
   "language": "python",
   "name": "python3"
  },
  "language_info": {
   "codemirror_mode": {
    "name": "ipython",
    "version": 3
   },
   "file_extension": ".py",
   "mimetype": "text/x-python",
   "name": "python",
   "nbconvert_exporter": "python",
   "pygments_lexer": "ipython3",
   "version": "3.8.8"
  }
 },
 "nbformat": 4,
 "nbformat_minor": 5
}
