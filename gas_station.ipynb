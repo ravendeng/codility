{
 "cells": [
  {
   "cell_type": "code",
   "execution_count": 18,
   "id": "7bc0e613",
   "metadata": {},
   "outputs": [],
   "source": [
    "class Pump(object):\n",
    "    def __init__(self, fuel_capacity):\n",
    "        self.fuel_capacity = fuel_capacity\n",
    "        self.car = None\n",
    "\n",
    "class GasStation(object):\n",
    "    def __init__(self, pumps):\n",
    "        self.pumps = pumps\n",
    "\n",
    "    def pumps_have_capacity(self, fuel_required):\n",
    "        return any([pump for pump in self.pumps if pump.fuel_capacity >= fuel_required])\n",
    "\n",
    "    def free_pump(self, fuel_required):\n",
    "        for pump in self.pumps:\n",
    "            if pump.fuel_capacity >= fuel_required and not pump.car:\n",
    "                return pump\n",
    "        else:\n",
    "            return None\n",
    "\n",
    "    def resolve_fuel_up(self):\n",
    "        # get next pump to be free (car with the least amount of fuel to fill up)\n",
    "        min_fuel_need = min([pump.car.fuel_need for pump in self.pumps if pump.car])\n",
    "\n",
    "        cars_all_fueled_up = []\n",
    "\n",
    "        for pump in self.pumps:\n",
    "            if pump.car:\n",
    "                pump.car.fuel_need -= min_fuel_need\n",
    "                pump.fuel_capacity -= min_fuel_need\n",
    "\n",
    "                if pump.car.fuel_need <= 0:\n",
    "                    cars_all_fueled_up.append(pump.car)\n",
    "                    pump.car = None\n",
    "\n",
    "        # Return the car, and the amount of fuel that was used\n",
    "        return cars_all_fueled_up, min_fuel_need\n",
    "\n",
    "    def are_cars_fueling_up(self):\n",
    "        for pump in self.pumps:\n",
    "            if pump.car:\n",
    "                return True\n",
    "        else:\n",
    "            return False\n",
    "\n",
    "\n",
    "class Car(object):\n",
    "    def __init__(self, fuel_need):\n",
    "        self.fuel_need = fuel_need\n",
    "        self.wait_time = 0\n",
    "\n",
    "\n",
    "def solution(A, X, Y, Z):\n",
    "    gas_station = GasStation([Pump(X), Pump(Y), Pump(Z)])\n",
    "    line = [Car(fuel_need) for fuel_need in A]\n",
    "    road = []\n",
    "\n",
    "    while len(line) > 0 or gas_station.are_cars_fueling_up():\n",
    "        if len(line) > 0:\n",
    "            # Check if pumps have capacity for next car in line\n",
    "            if not gas_station.pumps_have_capacity(fuel_required=line[0].fuel_need):\n",
    "                return -1\n",
    "\n",
    "            free_pump = gas_station.free_pump(fuel_required=line[0].fuel_need)\n",
    "\n",
    "        if free_pump and len(line) > 0:\n",
    "            free_pump.car = line.pop(0)\n",
    "\n",
    "        else:\n",
    "            resolved_cars, fuel_amount = gas_station.resolve_fuel_up()\n",
    "            for car in line:\n",
    "                car.wait_time += fuel_amount\n",
    "            road.extend(resolved_cars)\n",
    "\n",
    "    return max([car.wait_time for car in road])\n",
    "\n",
    "\n",
    "if __name__ == \"__main__\":\n",
    "    assert solution([2, 8, 4, 3, 2], 7, 11, 3) == 8\n",
    "    assert solution([5], 4, 0, 3) == -1"
   ]
  },
  {
   "cell_type": "code",
   "execution_count": 19,
   "id": "20a540fe",
   "metadata": {},
   "outputs": [
    {
     "data": {
      "text/plain": [
       "8"
      ]
     },
     "execution_count": 19,
     "metadata": {},
     "output_type": "execute_result"
    }
   ],
   "source": [
    "solution([2, 8, 4, 3, 2], 7, 11, 3)"
   ]
  },
  {
   "cell_type": "code",
   "execution_count": 20,
   "id": "ec8f2726",
   "metadata": {},
   "outputs": [
    {
     "data": {
      "text/plain": [
       "-1"
      ]
     },
     "execution_count": 20,
     "metadata": {},
     "output_type": "execute_result"
    }
   ],
   "source": [
    "solution([5], 4, 0, 3)"
   ]
  },
  {
   "cell_type": "code",
   "execution_count": null,
   "id": "eef4edf8",
   "metadata": {},
   "outputs": [],
   "source": []
  }
 ],
 "metadata": {
  "kernelspec": {
   "display_name": "Python 3",
   "language": "python",
   "name": "python3"
  },
  "language_info": {
   "codemirror_mode": {
    "name": "ipython",
    "version": 3
   },
   "file_extension": ".py",
   "mimetype": "text/x-python",
   "name": "python",
   "nbconvert_exporter": "python",
   "pygments_lexer": "ipython3",
   "version": "3.8.8"
  }
 },
 "nbformat": 4,
 "nbformat_minor": 5
}
