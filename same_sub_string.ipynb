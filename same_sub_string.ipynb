{
 "cells": [
  {
   "cell_type": "code",
   "execution_count": 2,
   "id": "1286e756",
   "metadata": {},
   "outputs": [],
   "source": [
    "import time"
   ]
  },
  {
   "cell_type": "code",
   "execution_count": 3,
   "id": "5ee3924b",
   "metadata": {},
   "outputs": [],
   "source": [
    "class same_sub_string:\n",
    "    def __init__(self, string):\n",
    "        self.string = string\n",
    "    def find_all(self):\n",
    "        l = len(self.string)\n",
    "        results = []\n",
    "        for i in range(l):\n",
    "            for j in range(l-i):\n",
    "                results.append(string[j:j+i+1])\n",
    "        return results\n",
    "    def count_same_str(self):\n",
    "        cnt = 0\n",
    "        alpha_set = set(self.string)\n",
    "        for s in self.find_all():\n",
    "            if len(s) == 1:\n",
    "                cnt += 1\n",
    "            else:\n",
    "                for a in alpha_set:\n",
    "                    if s.count(a) == len(s):\n",
    "                        cnt += 1\n",
    "        return cnt\n",
    "    def same_sub_str(self):\n",
    "        seq_count = 1\n",
    "        ans = 0\n",
    "        for i in range(1, len(self.string)):\n",
    "            first = i-1\n",
    "            second = i\n",
    "            if self.string[first] == self.string[second]:\n",
    "                seq_count += 1\n",
    "            else:\n",
    "                ans += seq_count * (seq_count + 1) / 2\n",
    "                seq_count = 1\n",
    "        ans += seq_count * (seq_count + 1) / 2\n",
    "        return ans"
   ]
  },
  {
   "cell_type": "code",
   "execution_count": 14,
   "id": "853dd930",
   "metadata": {},
   "outputs": [
    {
     "name": "stdout",
     "output_type": "stream",
     "text": [
      "125\n",
      "-0.014622926712036133\n"
     ]
    }
   ],
   "source": [
    "start = time.time()\n",
    "string = 'aaabaaaaaaaafsdfadsfsdaweofjosjndfsdkjoiasnsknsdalkfjsaascsaaaadjjddbbbbdjjj'\n",
    "test = same_sub_string(string)\n",
    "# print(test.find_all())\n",
    "print(test.count_same_str())\n",
    "end = time.time()\n",
    "print(start - end)"
   ]
  },
  {
   "cell_type": "code",
   "execution_count": 15,
   "id": "094545c8",
   "metadata": {},
   "outputs": [
    {
     "name": "stdout",
     "output_type": "stream",
     "text": [
      "120.0\n",
      "-0.0006802082061767578\n"
     ]
    }
   ],
   "source": [
    "start = time.time()\n",
    "test = same_sub_string(string)\n",
    "print(test.same_sub_str())\n",
    "end = time.time()\n",
    "print(start - end)"
   ]
  },
  {
   "cell_type": "code",
   "execution_count": null,
   "id": "7bc0e613",
   "metadata": {},
   "outputs": [],
   "source": []
  }
 ],
 "metadata": {
  "kernelspec": {
   "display_name": "Python 3",
   "language": "python",
   "name": "python3"
  },
  "language_info": {
   "codemirror_mode": {
    "name": "ipython",
    "version": 3
   },
   "file_extension": ".py",
   "mimetype": "text/x-python",
   "name": "python",
   "nbconvert_exporter": "python",
   "pygments_lexer": "ipython3",
   "version": "3.8.8"
  }
 },
 "nbformat": 4,
 "nbformat_minor": 5
}
